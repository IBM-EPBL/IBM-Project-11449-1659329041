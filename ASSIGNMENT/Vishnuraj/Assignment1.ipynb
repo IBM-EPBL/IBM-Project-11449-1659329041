{
  "metadata": {
    "kernelspec": {
      "name": "python",
      "display_name": "Python (Pyodide)",
      "language": "python"
    },
    "language_info": {
      "codemirror_mode": {
        "name": "python",
        "version": 3
      },
      "file_extension": ".py",
      "mimetype": "text/x-python",
      "name": "python",
      "nbconvert_exporter": "python",
      "pygments_lexer": "ipython3",
      "version": "3.8"
    }
  },
  "nbformat_minor": 5,
  "nbformat": 4,
  "cells": [
    {
      "cell_type": "markdown",
      "source": "                                          PNT2022TMID14448          711319EC135-Vishnu raj S",
      "metadata": {},
      "id": "1782179d-27f5-4c38-91c7-cb37cd698fb8"
    },
    {
      "cell_type": "markdown",
      "source": "                                                            BASIC PYTHON",
      "metadata": {},
      "id": "18896ed7-01b9-4590-91ea-ac673eb318a4"
    },
    {
      "cell_type": "markdown",
      "source": "1. Split the string",
      "metadata": {},
      "id": "9e46262a-4123-4930-875c-b75c7fb64cf4"
    },
    {
      "cell_type": "code",
      "source": "s = \"Hi there Sam!\"",
      "metadata": {
        "trusted": true
      },
      "execution_count": 1,
      "outputs": [],
      "id": "093b1747-5daf-4d4c-b908-6976eebf7a9a"
    },
    {
      "cell_type": "code",
      "source": "s=\"Hi there Sam!\"\ns=s.split()\nprint(s);",
      "metadata": {
        "trusted": true
      },
      "execution_count": 2,
      "outputs": [
        {
          "name": "stdout",
          "text": "['Hi', 'there', 'Sam!']\n",
          "output_type": "stream"
        }
      ],
      "id": "21793c6f-46c5-42ba-8f85-db4cd2e86b1e"
    },
    {
      "cell_type": "markdown",
      "source": "2. Use .format() to print the following string",
      "metadata": {},
      "id": "f4681002-4759-4dda-9ec7-75a8d2b09353"
    },
    {
      "cell_type": "code",
      "source": "planet='Earth'\ndiameter=12742",
      "metadata": {},
      "execution_count": null,
      "outputs": [],
      "id": "8d2112d9-134d-4022-b3a1-e1beb1945f8d"
    },
    {
      "cell_type": "code",
      "source": "planet='Earth'\ndiameter=12742\nprint('The diameter of {} is {} kilometers'.format(planet,diameter))",
      "metadata": {
        "trusted": true
      },
      "execution_count": 3,
      "outputs": [
        {
          "name": "stdout",
          "text": "The diameter of Earth is 12742 kilometers\n",
          "output_type": "stream"
        }
      ],
      "id": "0f87fccf-101f-4628-b425-7cdf65bbcc1d"
    },
    {
      "cell_type": "markdown",
      "source": "3. In this nest dictionary grab the word \"hello\"",
      "metadata": {},
      "id": "affb0ecc-3d56-48b3-a232-cacc427b1b74"
    },
    {
      "cell_type": "code",
      "source": "d = {'k1':[1,2,3,{'tricky':['oh','man','inception',{'target':[1,2,3,'hello']}]}]}",
      "metadata": {
        "trusted": true
      },
      "execution_count": 5,
      "outputs": [],
      "id": "697ddb24-3c45-4adc-b764-e8ed4034b25e"
    },
    {
      "cell_type": "code",
      "source": "print(d['k1'][3][\"tricky\"][3]['target'][3])",
      "metadata": {
        "trusted": true
      },
      "execution_count": 6,
      "outputs": [
        {
          "name": "stdout",
          "text": "hello\n",
          "output_type": "stream"
        }
      ],
      "id": "ad6b95e6-8391-47e5-a634-894f48fe213b"
    },
    {
      "cell_type": "markdown",
      "source": "Numpy",
      "metadata": {},
      "id": "f3a131eb-52ef-4100-8330-ce7aabd969d6"
    },
    {
      "cell_type": "code",
      "source": "import numpy as np",
      "metadata": {
        "trusted": true
      },
      "execution_count": 7,
      "outputs": [],
      "id": "7c913fdd-c2a9-425b-80f5-54c05c637433"
    },
    {
      "cell_type": "markdown",
      "source": "4.1 Create an array of 10 zeros?",
      "metadata": {},
      "id": "0d0f6541-6bc2-4338-a96a-dadb13818380"
    },
    {
      "cell_type": "code",
      "source": "array=np.zeros(10)\nprint(\"An array of 10 zeros:\")\nprint(array)",
      "metadata": {
        "trusted": true
      },
      "execution_count": 9,
      "outputs": [
        {
          "name": "stdout",
          "text": "An array of 10 zeros:\n[0. 0. 0. 0. 0. 0. 0. 0. 0. 0.]\n",
          "output_type": "stream"
        }
      ],
      "id": "d6573c3f-c419-4679-98e0-7d6d91c1f725"
    },
    {
      "cell_type": "markdown",
      "source": "4.2 Create an array of 10 fives?",
      "metadata": {},
      "id": "bcdd1676-482e-4994-aded-dbfde0fcfe17"
    },
    {
      "cell_type": "code",
      "source": "array=np.ones(10)*5\nprint(\"An array of 10 fives:\")\nprint(array)",
      "metadata": {
        "trusted": true
      },
      "execution_count": 10,
      "outputs": [
        {
          "name": "stdout",
          "text": "An array of 10 fives:\n[5. 5. 5. 5. 5. 5. 5. 5. 5. 5.]\n",
          "output_type": "stream"
        }
      ],
      "id": "405b12b5-546d-45a0-8c27-63bc6998470d"
    },
    {
      "cell_type": "markdown",
      "source": "5. Create an array of the even integers from 20 to 35",
      "metadata": {},
      "id": "1156a368-0b7a-4910-acdc-ead25e5b93c5"
    },
    {
      "cell_type": "code",
      "source": "import numpy as np ",
      "metadata": {
        "trusted": true
      },
      "execution_count": 11,
      "outputs": [],
      "id": "49a4f865-b0d8-44a1-91a6-c20eabebace4"
    },
    {
      "cell_type": "code",
      "source": "array=np.arange(20,35,2)\nprint(\"Array of all the even integers from 20 to 35\")\nprint(array)",
      "metadata": {
        "trusted": true
      },
      "execution_count": 13,
      "outputs": [
        {
          "name": "stdout",
          "text": "Array of all the even integers from 20 to 35\n[20 22 24 26 28 30 32 34]\n",
          "output_type": "stream"
        }
      ],
      "id": "6d476428-f2af-451d-82dc-b827b522294e"
    },
    {
      "cell_type": "markdown",
      "source": "6. Create a 3x3 matrix with values ranging from 0 to 8",
      "metadata": {},
      "id": "7cd1d1bb-36c5-4de6-80c5-511e65a1d549"
    },
    {
      "cell_type": "code",
      "source": "import numpy as np\nx=np.arange(0,9).reshape(3,3)\nprint(x)",
      "metadata": {
        "trusted": true
      },
      "execution_count": 14,
      "outputs": [
        {
          "name": "stdout",
          "text": "[[0 1 2]\n [3 4 5]\n [6 7 8]]\n",
          "output_type": "stream"
        }
      ],
      "id": "a44ae464-5552-4fbb-9bef-2f648d4edc4d"
    },
    {
      "cell_type": "markdown",
      "source": "7. Concatenate a and b",
      "metadata": {},
      "id": "81665c86-ed28-4250-8132-16fd94e2abba"
    },
    {
      "cell_type": "markdown",
      "source": "a=np.array([1,2,3]),b=np.array([4,5,6])",
      "metadata": {},
      "id": "499dd7b6-9056-4f94-826c-52162b65daff"
    },
    {
      "cell_type": "code",
      "source": "a=np.array([1,2,3])\nb=np.array([4,5,6])",
      "metadata": {
        "trusted": true
      },
      "execution_count": 15,
      "outputs": [],
      "id": "50bddea3-0d01-446f-9de3-1d9be96014e5"
    },
    {
      "cell_type": "code",
      "source": "np.concatenate((a,b))",
      "metadata": {
        "trusted": true
      },
      "execution_count": 16,
      "outputs": [
        {
          "execution_count": 16,
          "output_type": "execute_result",
          "data": {
            "text/plain": "array([1, 2, 3, 4, 5, 6])"
          },
          "metadata": {}
        }
      ],
      "id": "1362f60b-b109-4520-8880-99e89f434afe"
    },
    {
      "cell_type": "markdown",
      "source": "Pandas",
      "metadata": {},
      "id": "66011ed6-7c78-4702-bbee-06981890970d"
    },
    {
      "cell_type": "markdown",
      "source": "8. Create a dataframe with 3 rows and 2 columns",
      "metadata": {},
      "id": "8d56c351-4225-4c4a-a037-282cb5b88144"
    },
    {
      "cell_type": "code",
      "source": "import pandas as pd",
      "metadata": {
        "trusted": true
      },
      "execution_count": 17,
      "outputs": [],
      "id": "ce642905-3f0f-46da-9aaa-65d2f9e590ee"
    },
    {
      "cell_type": "code",
      "source": "data=[2,4,6]",
      "metadata": {
        "trusted": true
      },
      "execution_count": 18,
      "outputs": [],
      "id": "f781a44a-0f46-4f21-96d8-19ad2e762205"
    },
    {
      "cell_type": "code",
      "source": "df = pd.DataFrame(data, columns=['Even Numbers'])\ndf",
      "metadata": {
        "trusted": true
      },
      "execution_count": 20,
      "outputs": [
        {
          "execution_count": 20,
          "output_type": "execute_result",
          "data": {
            "text/plain": "   Even Numbers\n0             2\n1             4\n2             6",
            "text/html": "<div>\n<style scoped>\n    .dataframe tbody tr th:only-of-type {\n        vertical-align: middle;\n    }\n\n    .dataframe tbody tr th {\n        vertical-align: top;\n    }\n\n    .dataframe thead th {\n        text-align: right;\n    }\n</style>\n<table border=\"1\" class=\"dataframe\">\n  <thead>\n    <tr style=\"text-align: right;\">\n      <th></th>\n      <th>Even Numbers</th>\n    </tr>\n  </thead>\n  <tbody>\n    <tr>\n      <th>0</th>\n      <td>2</td>\n    </tr>\n    <tr>\n      <th>1</th>\n      <td>4</td>\n    </tr>\n    <tr>\n      <th>2</th>\n      <td>6</td>\n    </tr>\n  </tbody>\n</table>\n</div>"
          },
          "metadata": {}
        }
      ],
      "id": "a7d0638c-cf6c-4008-a48d-3016dc753bec"
    },
    {
      "cell_type": "markdown",
      "source": "9.Generate a series of dates from 1st Jan,2023 to 10th Feb,2023",
      "metadata": {},
      "id": "485a45a3-d1c9-4c5a-83d2-c2500a9201de"
    },
    {
      "cell_type": "code",
      "source": "import datetime as dt\nimport pandas as pd\nstart = dt.date(2023,1,1)\nend = dt.date(2023,2,10)\ndates_temp = pd.date_range(start,end)\ndates = []\nindex_s = []\nfor i in dates_temp.strftime(\"%b %d, %Y\"):\n  dates.append(i)\ns = pd.Series(dates)\ns.index += 1\nprint(s)",
      "metadata": {
        "trusted": true
      },
      "execution_count": 41,
      "outputs": [
        {
          "name": "stdout",
          "text": "1     Jan 01, 2023\n2     Jan 02, 2023\n3     Jan 03, 2023\n4     Jan 04, 2023\n5     Jan 05, 2023\n6     Jan 06, 2023\n7     Jan 07, 2023\n8     Jan 08, 2023\n9     Jan 09, 2023\n10    Jan 10, 2023\n11    Jan 11, 2023\n12    Jan 12, 2023\n13    Jan 13, 2023\n14    Jan 14, 2023\n15    Jan 15, 2023\n16    Jan 16, 2023\n17    Jan 17, 2023\n18    Jan 18, 2023\n19    Jan 19, 2023\n20    Jan 20, 2023\n21    Jan 21, 2023\n22    Jan 22, 2023\n23    Jan 23, 2023\n24    Jan 24, 2023\n25    Jan 25, 2023\n26    Jan 26, 2023\n27    Jan 27, 2023\n28    Jan 28, 2023\n29    Jan 29, 2023\n30    Jan 30, 2023\n31    Jan 31, 2023\n32    Feb 01, 2023\n33    Feb 02, 2023\n34    Feb 03, 2023\n35    Feb 04, 2023\n36    Feb 05, 2023\n37    Feb 06, 2023\n38    Feb 07, 2023\n39    Feb 08, 2023\n40    Feb 09, 2023\n41    Feb 10, 2023\ndtype: object\n",
          "output_type": "stream"
        }
      ],
      "id": "82f36821-d6f6-4aff-9e34-b1f868db20f6"
    },
    {
      "cell_type": "markdown",
      "source": "10. Create 2D list to DataFrame",
      "metadata": {},
      "id": "6951d23d-e4f4-4842-b5f3-86927ac46f03"
    },
    {
      "cell_type": "code",
      "source": "lists=[[1,'aaa',22],[2,'bbb',25],[3,'ccc',24]]",
      "metadata": {
        "trusted": true
      },
      "execution_count": 40,
      "outputs": [],
      "id": "d618f323-c57e-42da-a4ec-09bc334a7e08"
    },
    {
      "cell_type": "code",
      "source": "import pandas as pd\ndf = pd.DataFrame(lists)\nprint(df)",
      "metadata": {
        "trusted": true
      },
      "execution_count": 22,
      "outputs": [
        {
          "name": "stdout",
          "text": "   0    1   2\n0  1  aaa  22\n1  2  bbb  25\n2  3  ccc  24\n",
          "output_type": "stream"
        }
      ],
      "id": "faf3210f-705e-4410-8326-37a5222df70d"
    },
    {
      "cell_type": "code",
      "source": "",
      "metadata": {},
      "execution_count": null,
      "outputs": [],
      "id": "94bd6d7e-e5c5-4f73-b939-179c87206aa2"
    }
  ]
}
